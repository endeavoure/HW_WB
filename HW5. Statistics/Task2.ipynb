{
 "cells": [
  {
   "cell_type": "code",
   "execution_count": 1,
   "metadata": {},
   "outputs": [],
   "source": [
    "import numpy as np\n",
    "from scipy import stats"
   ]
  },
  {
   "cell_type": "markdown",
   "metadata": {},
   "source": [
    "**Задача 1:**"
   ]
  },
  {
   "cell_type": "markdown",
   "metadata": {},
   "source": [
    "Ручная реализация:"
   ]
  },
  {
   "cell_type": "code",
   "execution_count": 18,
   "metadata": {},
   "outputs": [
    {
     "name": "stdout",
     "output_type": "stream",
     "text": [
      "Статистика: 2.1578017974978794, p-value: 0.07430190210562304\n"
     ]
    }
   ],
   "source": [
    "u = np.array([12.9, 11.6, 13.5, 13.9, 12.1, 11.9, 13.0])\n",
    "mu = 12.0\n",
    "\n",
    "df = len(u) - 1\n",
    "student = stats.t(df)\n",
    "T = df**0.5 * (u.mean() - mu) / u.std()\n",
    "P = 2 - 2 * student.cdf(T)\n",
    "print(f\"Статистика: {T}, p-value: {P}\")"
   ]
  },
  {
   "cell_type": "markdown",
   "metadata": {},
   "source": [
    "Реализация с помощью библиотеки:"
   ]
  },
  {
   "cell_type": "code",
   "execution_count": 20,
   "metadata": {},
   "outputs": [
    {
     "data": {
      "text/plain": [
       "TtestResult(statistic=2.1578017974978794, pvalue=0.07430190210562303, df=6)"
      ]
     },
     "execution_count": 20,
     "metadata": {},
     "output_type": "execute_result"
    }
   ],
   "source": [
    "stats.ttest_1samp(u, mu)"
   ]
  },
  {
   "cell_type": "markdown",
   "metadata": {},
   "source": [
    "На уровне значимости **<= 0.07** мы не можем отвергнуть **нулевую гипотезу** о равенстве среднего значения напряжения 12 вольтам в пользу **альтернативной гипотезы**. (Среднее значение напряжения статистически значимо не отличается от 12 вольт)\n",
    "\n",
    "На уровне значимости **>= 0.08** мы отвергаем **нулевую гипотезу** в пользу **альтернативной гипотезы** о неравенстве среднего значения напряжения 12 вольтам. (Среднее значение напряжения статистически значимо отличается от 12 вольт)\n",
    "\n",
    "Таким образом, на \"классическом\" уровне значимости 0.05 мы не можем утверждать, что среднее напряжение статистически значимо отличается от 12 вольт."
   ]
  },
  {
   "cell_type": "markdown",
   "metadata": {},
   "source": [
    "**Задача 2:**"
   ]
  },
  {
   "cell_type": "code",
   "execution_count": 11,
   "metadata": {},
   "outputs": [],
   "source": [
    "m1 = np.array([23.1, 23.2, 26.5, 26.6, 27.1, 48.3, 40.5, 25.0, 38.4, 23.5])\n",
    "m2 = np.array([22.7, 23.6, 27.1, 27.4, 27.4, 46.8, 40.4, 24.9, 38.1, 23.8])"
   ]
  },
  {
   "cell_type": "markdown",
   "metadata": {},
   "source": [
    "Ручная реализация:"
   ]
  },
  {
   "cell_type": "code",
   "execution_count": 45,
   "metadata": {},
   "outputs": [
    {
     "name": "stdout",
     "output_type": "stream",
     "text": [
      "Statistic: 1.715488497867803e-15, p-value: 0.9999999999999987\n"
     ]
    }
   ],
   "source": [
    "delta = m1 - m2\n",
    "df = len(delta) - 1\n",
    "student = stats.t(df)\n",
    "\n",
    "T = df**0.5 * delta.mean() / delta.std()\n",
    "P = 2 - 2 * student.cdf(T)\n",
    "\n",
    "print(f'Statistic: {T}, p-value: {P}')"
   ]
  },
  {
   "cell_type": "markdown",
   "metadata": {},
   "source": [
    "Реализация с помощью библиотеки:"
   ]
  },
  {
   "cell_type": "code",
   "execution_count": 14,
   "metadata": {},
   "outputs": [
    {
     "data": {
      "text/plain": [
       "TtestResult(statistic=1.7154884978678027e-15, pvalue=0.9999999999999987, df=9)"
      ]
     },
     "execution_count": 14,
     "metadata": {},
     "output_type": "execute_result"
    }
   ],
   "source": [
    "stats.ttest_1samp(delta, 0)"
   ]
  },
  {
   "cell_type": "markdown",
   "metadata": {},
   "source": [
    "На уровне значимости **<= 0.99** (!!!) мы не можем отвергнуть **нулевую гипотезу** о том, что один метод даёт в среднем такие же показания, как и другой, в пользу **альтернативной гипотезы** о том, что один метод даёт в среднем более высокие показания, чем другой. (Средние значения показаний первого и второго метода статистически неразличимы)\n",
    "\n",
    "Таким образом, на \"классическом\" уровне значимости 0.05 мы можем утверждать, что один метод даёт в среднем такие же показания, что и другой."
   ]
  },
  {
   "cell_type": "markdown",
   "metadata": {},
   "source": [
    "**Задача 3:**"
   ]
  },
  {
   "cell_type": "code",
   "execution_count": 46,
   "metadata": {},
   "outputs": [],
   "source": [
    "town = np.array([132, 111, 119, 138, 200, 131, 138, 170, 159, 140])\n",
    "country = np.array([115, 190, 127, 155, 148, 121, 116, 121, 197])"
   ]
  },
  {
   "cell_type": "markdown",
   "metadata": {},
   "source": [
    "Ручная реализация:"
   ]
  },
  {
   "cell_type": "code",
   "execution_count": 38,
   "metadata": {},
   "outputs": [
    {
     "name": "stdout",
     "output_type": "stream",
     "text": [
      "Statistic: 0.03681832098940068, p-value: 0.48554266145506586\n"
     ]
    }
   ],
   "source": [
    "m = len(town)\n",
    "n = len(country)\n",
    "s2x = town.var()\n",
    "s2y = country.var()\n",
    "\n",
    "T = (town.mean() - country.mean())/(s2x/m + s2y/n)**0.5\n",
    "df = round((s2x/m + s2y/n)**2 / ((s2x/m)**2 / (m-1) + (s2y/n)**2 / (n-1)))\n",
    "\n",
    "student = stats.t(df)\n",
    "P = 1 - student.cdf(T)\n",
    "\n",
    "print(f'Statistic: {T}, p-value: {P}')"
   ]
  },
  {
   "cell_type": "markdown",
   "metadata": {},
   "source": [
    "Реализация с помощью библиотеки:"
   ]
  },
  {
   "cell_type": "code",
   "execution_count": 17,
   "metadata": {},
   "outputs": [
    {
     "data": {
      "text/plain": [
       "TtestResult(statistic=0.035165199049777565, pvalue=0.972357624400922, df=17.0)"
      ]
     },
     "execution_count": 17,
     "metadata": {},
     "output_type": "execute_result"
    }
   ],
   "source": [
    "stats.ttest_ind(town, country) # Тут двусторонняя область, поэтому p-value в 2 раза больше"
   ]
  },
  {
   "cell_type": "markdown",
   "metadata": {},
   "source": [
    "На уровне значимости **<= 0.48** мы не можем отвергнуть **нулевую гипотезу** о равенстве в среднем давления городского и сельского жителя в пользу **альтернативной гипотезы** о в среднем большем значении давления у городского жителя. (Средние значения давления сельского и городского жителей статистически неразличимы)\n",
    "\n",
    "Получаем, что на уровне значимости **0.05** мы не можем считать верной выдвинутую гипотезу о том, что у городского жителя в среднем давление выше, чем у сельского."
   ]
  },
  {
   "cell_type": "markdown",
   "metadata": {},
   "source": [
    "**Задача 4:**"
   ]
  },
  {
   "cell_type": "markdown",
   "metadata": {},
   "source": [
    "H0: Доля мужчин в выборке p = p0 = 0.52\n"
   ]
  },
  {
   "cell_type": "markdown",
   "metadata": {},
   "source": [
    "Ha: Доля мужчин в выборке p != p0"
   ]
  },
  {
   "cell_type": "code",
   "execution_count": 51,
   "metadata": {},
   "outputs": [
    {
     "name": "stdout",
     "output_type": "stream",
     "text": [
      "Statistic: -2.830692585361489, p-value: 0.004644733942292513\n"
     ]
    }
   ],
   "source": [
    "m = 2500\n",
    "n = 5000\n",
    "p0 = 0.52\n",
    "\n",
    "T = (m - n*p0) / (n*p0*(1-p0))**0.5\n",
    "P = min(2*stats.norm.cdf(T), 2 - 2*stats.norm.cdf(T))\n",
    "\n",
    "print(f'Statistic: {T}, p-value: {P}')"
   ]
  },
  {
   "cell_type": "markdown",
   "metadata": {},
   "source": [
    "На уровне значимости **0.05** можно считать, что доля мужчин в выборке статистически значимо отличается от **p0 = 0.52**. На основании этого можно сделать вывод о том, что смертность среди мужчин и женщин **неодинакова** (поскольку иначе доля мужчин в выборке значимо не отличалась бы от \"изначальной\", равной 0.52)."
   ]
  },
  {
   "cell_type": "markdown",
   "metadata": {},
   "source": [
    "**Задача 5:**"
   ]
  },
  {
   "cell_type": "markdown",
   "metadata": {},
   "source": [
    "Статистика критерия Стьюдента для независимых выборок:\n",
    "\n",
    "$$\n",
    "T = \\frac{\\mu_{1} - \\mu_{2}}{\\sqrt[2]{\\frac{S_{x}^2}{m} - \\frac{S_{y}^2}{n}}} \n",
    "$$"
   ]
  },
  {
   "cell_type": "markdown",
   "metadata": {},
   "source": [
    "В первом случае различие в средних $$\\Delta\\mu_{1} = 1$$ оказалось статистически значимым в то время, как $$\\Delta\\mu_{2} = -19$$ во втором случае не оказалось статистически значимым."
   ]
  },
  {
   "cell_type": "markdown",
   "metadata": {},
   "source": [
    "Причиной получения таких результатов могут являться несколько факторов: \n",
    "1. **Разница в объеме выборок**. В первом случае их размеры могут быть много больше, чем во втором, поскольку в первом случае нам удалось установить статистическую значимость различия средних = 1 в то время, как во втором случае нам не хватило \"разрешения\", чтобы установить статистическую значимость различия средних = -19 (!!!)\n",
    "\n",
    "2. **Высокие выборочные дисперсии во втором случае**. Этот пункт перекликается с предыдущим, поскольку достаточно часто малый размер выборки => высокая выборочная дисперсия."
   ]
  },
  {
   "cell_type": "markdown",
   "metadata": {},
   "source": [
    "Изменение объёма выборок и их выборочных дисперсий ведёт к изменению значения статистики **T** и количества степеней свободы **df**. Из этого следует, что и **p-value** тоже изменится (так как зависит от **t(df)** и **T**)."
   ]
  }
 ],
 "metadata": {
  "kernelspec": {
   "display_name": "Python 3",
   "language": "python",
   "name": "python3"
  },
  "language_info": {
   "codemirror_mode": {
    "name": "ipython",
    "version": 3
   },
   "file_extension": ".py",
   "mimetype": "text/x-python",
   "name": "python",
   "nbconvert_exporter": "python",
   "pygments_lexer": "ipython3",
   "version": "3.11.8"
  }
 },
 "nbformat": 4,
 "nbformat_minor": 2
}
